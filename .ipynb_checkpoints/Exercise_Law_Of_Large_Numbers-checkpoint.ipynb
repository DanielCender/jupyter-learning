{
 "cells": [
  {
   "cell_type": "markdown",
   "metadata": {},
   "source": [
    "## Exercise: Law of Large Numbers (Bell Curve Distribution)"
   ]
  },
  {
   "cell_type": "markdown",
   "metadata": {},
   "source": [
    "---"
   ]
  },
  {
   "cell_type": "markdown",
   "metadata": {},
   "source": [
    "__To start,__ we'll need to import our `numpy` package and extract the `randn` function from the last Notebook."
   ]
  },
  {
   "cell_type": "code",
   "execution_count": 1,
   "metadata": {},
   "outputs": [],
   "source": [
    "import numpy as np\n",
    "from numpy.random import randn"
   ]
  },
  {
   "cell_type": "markdown",
   "metadata": {},
   "source": [
    "Now, we need to understand the Law of Large Numbers before we develop our script here.\n",
    "\n",
    "The LLN dictates that as the number of our sample size increases towards infinity (or a very large number), the distribution of values should approach the expected (shown as E) value.\n",
    "\n",
    "\\begin{equation*}\n",
    "X_n \\text{ approaches } E(X) \\text{ as } n \\text{ approaches } \\infty\n",
    "\\end{equation*}\n"
   ]
  },
  {
   "cell_type": "code",
   "execution_count": 20,
   "metadata": {},
   "outputs": [],
   "source": [
    "# Now we'll define the sample size\n",
    "# Just change this value and re-run all snippets to test diff sizes\n",
    "n = 10000"
   ]
  },
  {
   "cell_type": "code",
   "execution_count": 3,
   "metadata": {},
   "outputs": [],
   "source": [
    "# We'll need to define an average to hold our return value\n",
    "avg = 0"
   ]
  },
  {
   "cell_type": "code",
   "execution_count": 4,
   "metadata": {},
   "outputs": [
    {
     "data": {
      "text/plain": [
       "-1.1460514993192843"
      ]
     },
     "execution_count": 4,
     "metadata": {},
     "output_type": "execute_result"
    }
   ],
   "source": [
    "randn()"
   ]
  },
  {
   "cell_type": "code",
   "execution_count": 5,
   "metadata": {},
   "outputs": [
    {
     "name": "stdout",
     "output_type": "stream",
     "text": [
      "0\n"
     ]
    }
   ],
   "source": [
    "x = len([])\n",
    "print(x)"
   ]
  },
  {
   "cell_type": "code",
   "execution_count": 21,
   "metadata": {},
   "outputs": [
    {
     "data": {
      "text/plain": [
       "-0.007214812947173178"
      ]
     },
     "execution_count": 21,
     "metadata": {},
     "output_type": "execute_result"
    }
   ],
   "source": [
    "# Here is our script\n",
    "\n",
    "# We'll have one parameter, \n",
    "#  the size of the sample set\n",
    "\n",
    "def law_large_nums(size):\n",
    "    # build a list of values\n",
    "    sample = []\n",
    "    total = 0.0\n",
    "    for i in range(0, size):\n",
    "        sample.append(randn())\n",
    "    # aggregate our avg\n",
    "    for i in sample:\n",
    "        total += i\n",
    "    # return average\n",
    "    return total / size\n",
    "\n",
    "law_large_nums(n)"
   ]
  },
  {
   "cell_type": "markdown",
   "metadata": {},
   "source": [
    "The above example is pretty procedural and inefficient. Below is a rewrite of the function that runs faster:"
   ]
  },
  {
   "cell_type": "code",
   "execution_count": 22,
   "metadata": {},
   "outputs": [
    {
     "data": {
      "text/plain": [
       "-0.001603827892907177"
      ]
     },
     "execution_count": 22,
     "metadata": {},
     "output_type": "execute_result"
    }
   ],
   "source": [
    "def law_large_nums(size):\n",
    "    total = 0.0\n",
    "    # build a total of all sample items\n",
    "    for i in range(0, size):\n",
    "        total += randn()\n",
    "    return total / size\n",
    "\n",
    "law_large_nums(n)"
   ]
  },
  {
   "cell_type": "markdown",
   "metadata": {},
   "source": [
    "If you change the value of variable `n` above, you'll see the resulting values of both functions increase towards 0, which is the expected average of these random values."
   ]
  },
  {
   "cell_type": "markdown",
   "metadata": {},
   "source": [
    "__Upon further reading,__ I found that `randn()` takes parameters that determine the dimensions of it's resulting set of random numbers.\n",
    "\n",
    "It only returns a single value if no arguments are passed.\n",
    "\n",
    "__So__ we can rewrite this function again as such, in full."
   ]
  },
  {
   "cell_type": "code",
   "execution_count": 23,
   "metadata": {},
   "outputs": [
    {
     "data": {
      "text/plain": [
       "-0.0004218146174852562"
      ]
     },
     "execution_count": 23,
     "metadata": {},
     "output_type": "execute_result"
    }
   ],
   "source": [
    "import numpy as np\n",
    "from numpy.random import randn\n",
    "\n",
    "def law_large_nums(size):\n",
    "        total = 0\n",
    "        for i in randn(size):\n",
    "            total += i\n",
    "        return total / size\n",
    "            \n",
    "law_large_nums(n)"
   ]
  },
  {
   "cell_type": "markdown",
   "metadata": {},
   "source": [
    "There it is, a function that returns the average of a random set of numbers."
   ]
  }
 ],
 "metadata": {
  "kernelspec": {
   "display_name": "Python 3",
   "language": "python",
   "name": "python3"
  },
  "language_info": {
   "codemirror_mode": {
    "name": "ipython",
    "version": 3
   },
   "file_extension": ".py",
   "mimetype": "text/x-python",
   "name": "python",
   "nbconvert_exporter": "python",
   "pygments_lexer": "ipython3",
   "version": "3.7.4"
  }
 },
 "nbformat": 4,
 "nbformat_minor": 2
}
