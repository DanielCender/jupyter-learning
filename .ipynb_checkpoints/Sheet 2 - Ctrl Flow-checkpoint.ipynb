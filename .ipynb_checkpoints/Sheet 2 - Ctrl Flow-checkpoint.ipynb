{
 "cells": [
  {
   "cell_type": "markdown",
   "metadata": {},
   "source": [
    "## 2.1 Control Flow"
   ]
  },
  {
   "cell_type": "markdown",
   "metadata": {},
   "source": [
    "---"
   ]
  },
  {
   "cell_type": "markdown",
   "metadata": {},
   "source": [
    "![Surfing Waves](https://media.giphy.com/media/bgv4OvHBEbBQc/giphy.gif)"
   ]
  },
  {
   "cell_type": "markdown",
   "metadata": {},
   "source": [
    "---"
   ]
  },
  {
   "cell_type": "markdown",
   "metadata": {},
   "source": [
    "#### While Loop"
   ]
  },
  {
   "cell_type": "code",
   "execution_count": 6,
   "metadata": {},
   "outputs": [
    {
     "name": "stdout",
     "output_type": "stream",
     "text": [
      "counter is not 5 yet\n",
      "counter is not 5 yet\n",
      "counter is not 5 yet\n",
      "counter is not 5 yet\n",
      "counter is now 5\n"
     ]
    }
   ],
   "source": [
    "# Basic Usage\n",
    "counter = 1\n",
    "while (counter < 5):\n",
    "    print('counter is not 5 yet')\n",
    "    counter += 1\n",
    "print('counter is now 5')"
   ]
  },
  {
   "cell_type": "markdown",
   "metadata": {},
   "source": [
    "Python's While loop would, in practice, have little use compared to just using a For loop, unless there is explicit need for user input. In such a case, this pattern can be easily followed (taken from https://wiki.python.org/moin/WhileLoop):"
   ]
  },
  {
   "cell_type": "code",
   "execution_count": 2,
   "metadata": {},
   "outputs": [
    {
     "name": "stdout",
     "output_type": "stream",
     "text": [
      "Please enter 'hello':sd\n",
      "Please enter 'hello':hello\n"
     ]
    }
   ],
   "source": [
    "n = input(\"Please enter 'hello':\")\n",
    "while n.strip() != 'hello':\n",
    "    n = input(\"Please enter 'hello':\")"
   ]
  },
  {
   "cell_type": "markdown",
   "metadata": {},
   "source": [
    "#### For Loop"
   ]
  },
  {
   "cell_type": "code",
   "execution_count": 7,
   "metadata": {},
   "outputs": [
    {
     "name": "stdout",
     "output_type": "stream",
     "text": [
      "Hello World\n",
      "Hello World\n",
      "Hello World\n",
      "Hello World\n",
      "Hello World\n"
     ]
    }
   ],
   "source": [
    "for i in range(5):\n",
    "    print('Hello World')"
   ]
  },
  {
   "cell_type": "code",
   "execution_count": 8,
   "metadata": {},
   "outputs": [
    {
     "data": {
      "text/plain": [
       "range(1, 5)"
      ]
     },
     "execution_count": 8,
     "metadata": {},
     "output_type": "execute_result"
    }
   ],
   "source": [
    "range(5) # contains sequential values up to value defined, starting from 0\n",
    "\n",
    "range(1, 5) # unless inclusive upper/lower bounds are defined"
   ]
  },
  {
   "cell_type": "code",
   "execution_count": 12,
   "metadata": {},
   "outputs": [
    {
     "name": "stdout",
     "output_type": "stream",
     "text": [
      "[0, 1, 2, 3, 4]\n",
      "[1, 2, 3, 4]\n"
     ]
    }
   ],
   "source": [
    "# We need to log this out to stdout to see the result however\n",
    "print(list(range(5)))\n",
    "print(list(range(1, 5)))"
   ]
  },
  {
   "cell_type": "code",
   "execution_count": 13,
   "metadata": {},
   "outputs": [
    {
     "name": "stdout",
     "output_type": "stream",
     "text": [
      "Hello world:  0\n",
      "Hello world:  1\n",
      "Hello world:  2\n",
      "Hello world:  3\n",
      "Hello world:  4\n"
     ]
    }
   ],
   "source": [
    "for i in range(5):\n",
    "    print(\"Hello world: \", i)"
   ]
  },
  {
   "cell_type": "code",
   "execution_count": 14,
   "metadata": {},
   "outputs": [
    {
     "name": "stdout",
     "output_type": "stream",
     "text": [
      "Current item is: 3\n",
      "Current item is: 6\n",
      "Current item is: 9\n",
      "Current item is: 11\n"
     ]
    }
   ],
   "source": [
    "# Using manually-defined array of values\n",
    "arr = [3, 6, 9, 11]\n",
    "\n",
    "for item in arr:\n",
    "    print('Current item is:', item)"
   ]
  },
  {
   "cell_type": "markdown",
   "metadata": {},
   "source": [
    "---"
   ]
  },
  {
   "cell_type": "markdown",
   "metadata": {},
   "source": [
    "#### If Statements"
   ]
  },
  {
   "cell_type": "markdown",
   "metadata": {},
   "source": [
    "!First, follow the instructions [here](https://scipy.org/install.html) \n",
    "to install SciPy modules (numpy, pandas, matplotlib) if you don't have them already.\n",
    "\n",
    "Running on Mac, I installed them with the following command using Homebrew:\n",
    "\n",
    "`brew install numpy scipy ipython jupyter`\n",
    "\n",
    "`sudo port install py35-numpy py35-scipy py35-matplotlib py35-ipython +notebook py35-pandas py35-sympy py35-nose`"
   ]
  },
  {
   "cell_type": "code",
   "execution_count": 1,
   "metadata": {},
   "outputs": [],
   "source": [
    "import numpy as np"
   ]
  },
  {
   "cell_type": "code",
   "execution_count": 6,
   "metadata": {},
   "outputs": [],
   "source": [
    "from numpy.random import randn"
   ]
  },
  {
   "cell_type": "code",
   "execution_count": 29,
   "metadata": {
    "scrolled": true
   },
   "outputs": [
    {
     "data": {
      "text/plain": [
       "-1.3899790909720502"
      ]
     },
     "execution_count": 29,
     "metadata": {},
     "output_type": "execute_result"
    }
   ],
   "source": [
    "randn() # prints random number"
   ]
  },
  {
   "cell_type": "code",
   "execution_count": 122,
   "metadata": {},
   "outputs": [
    {
     "name": "stdout",
     "output_type": "stream",
     "text": [
      "not greater than 1...\n"
     ]
    }
   ],
   "source": [
    "# Basic If/Else\n",
    "\n",
    "x = randn()\n",
    "answer = None\n",
    "\n",
    "if x > 1:\n",
    "    answer = 'greater than 1...'\n",
    "else:\n",
    "    answer = 'not greater than 1...'\n",
    "    \n",
    "print(answer)"
   ]
  },
  {
   "cell_type": "markdown",
   "metadata": {},
   "source": [
    "The example below illustrates how If/Elif/Else statements can be nested together to create case structures, like a switch flow in JavaScript."
   ]
  },
  {
   "cell_type": "code",
   "execution_count": 121,
   "metadata": {
    "scrolled": true
   },
   "outputs": [
    {
     "name": "stdout",
     "output_type": "stream",
     "text": [
      "0.1646882278692271\n",
      "between 0 and 1...\n"
     ]
    }
   ],
   "source": [
    "# Testing random values as though on a number line\n",
    "# -2 .... +2 in increments of 1\n",
    "\n",
    "x = randn()\n",
    "answer = None\n",
    "if x > 0:\n",
    "    if x >= 1:\n",
    "        answer = 'between 1 and 2...'\n",
    "    else:\n",
    "        answer = 'between 0 and 1...'\n",
    "elif x < 0:\n",
    "    if x >= -1:\n",
    "        answer = 'between 0 and -1...'\n",
    "    else:\n",
    "        answer = 'between -2 and -1...'\n",
    "else:\n",
    "    answer = 'equal to 0...'\n",
    "print(x)\n",
    "print(answer)"
   ]
  },
  {
   "cell_type": "markdown",
   "metadata": {},
   "source": [
    "Don't mistake between <b>nested</b> and <b>chained</b> statements. \n",
    "\n",
    "Chaining occurs oftentimes as a list of `elif` statements book-ended by if | else:"
   ]
  },
  {
   "cell_type": "code",
   "execution_count": 123,
   "metadata": {},
   "outputs": [
    {
     "name": "stdout",
     "output_type": "stream",
     "text": [
      "\n"
     ]
    }
   ],
   "source": [
    "if 1 > 0:\n",
    "    print()\n",
    "elif 1 == 1:\n",
    "    print()\n",
    "elif 0 == 0:\n",
    "    print()\n",
    "elif 3 == 5:\n",
    "    print()\n",
    "else:\n",
    "    print()"
   ]
  },
  {
   "cell_type": "markdown",
   "metadata": {},
   "source": [
    "<b>Nested</b> statements are entire conditional blocks nested inside other condition blocks:"
   ]
  },
  {
   "cell_type": "code",
   "execution_count": 127,
   "metadata": {},
   "outputs": [
    {
     "name": "stdout",
     "output_type": "stream",
     "text": [
      "no greeting received\n"
     ]
    }
   ],
   "source": [
    "if 0 > 0:\n",
    "    if x == 'hello':\n",
    "        print('hi there')\n",
    "    else:\n",
    "        print('goodbye')\n",
    "else:\n",
    "    print('no greeting received')"
   ]
  },
  {
   "cell_type": "code",
   "execution_count": null,
   "metadata": {},
   "outputs": [],
   "source": []
  }
 ],
 "metadata": {
  "kernelspec": {
   "display_name": "Python 3",
   "language": "python",
   "name": "python3"
  },
  "language_info": {
   "codemirror_mode": {
    "name": "ipython",
    "version": 3
   },
   "file_extension": ".py",
   "mimetype": "text/x-python",
   "name": "python",
   "nbconvert_exporter": "python",
   "pygments_lexer": "ipython3",
   "version": "3.7.4"
  }
 },
 "nbformat": 4,
 "nbformat_minor": 2
}
