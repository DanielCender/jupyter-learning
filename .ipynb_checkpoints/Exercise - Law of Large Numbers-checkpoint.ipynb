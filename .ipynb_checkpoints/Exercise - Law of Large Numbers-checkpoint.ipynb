{
 "cells": [
  {
   "cell_type": "markdown",
   "metadata": {},
   "source": [
    "## Exercise: Law of Large Numbers (Bell Curve Distribution)"
   ]
  },
  {
   "cell_type": "markdown",
   "metadata": {},
   "source": [
    "---"
   ]
  },
  {
   "cell_type": "markdown",
   "metadata": {},
   "source": [
    "__To start,__ we'll need to import our `numpy` package and extract the `randn` function from the last Notebook."
   ]
  },
  {
   "cell_type": "code",
   "execution_count": null,
   "metadata": {},
   "outputs": [],
   "source": [
    "import numpy as np\n",
    "from numpy.random import randn"
   ]
  },
  {
   "cell_type": "markdown",
   "metadata": {},
   "source": [
    "Now, we need to understand the Law of Large Numbers before we develop our script here.\n",
    "\n",
    "The LLN dictates that as the number of our sample size increases towards infinity (or a very large number), the distribution of values should approach the expected (shown as E) value.\n",
    "\n",
    "\\begin{equation*}\n",
    "X_n \\text{ approaches } E(X) \\text{ as } n \\text{ approaches } \\infty\n",
    "\\end{equation*}\n"
   ]
  },
  {
   "cell_type": "code",
   "execution_count": null,
   "metadata": {},
   "outputs": [],
   "source": [
    "# Now we'll define the sample size\n",
    "n = 100"
   ]
  },
  {
   "cell_type": "code",
   "execution_count": null,
   "metadata": {},
   "outputs": [],
   "source": [
    "# We'll need to define an average to hold our return value\n",
    "avg = 0"
   ]
  },
  {
   "cell_type": "code",
   "execution_count": null,
   "metadata": {},
   "outputs": [],
   "source": [
    "randn()"
   ]
  },
  {
   "cell_type": "code",
   "execution_count": null,
   "metadata": {},
   "outputs": [],
   "source": [
    "x = len([])\n",
    "print(x)"
   ]
  },
  {
   "cell_type": "code",
   "execution_count": null,
   "metadata": {},
   "outputs": [],
   "source": [
    "# Here is our script\n",
    "\n",
    "# We'll have one parameter, \n",
    "#  the size of the sample set\n",
    "\n",
    "def law_large_nums(size):\n",
    "    # build a list of values\n",
    "    i = 0\n",
    "    sample = []\n",
    "    total = 0.0\n",
    "    while i < size:\n",
    "        sample.append(randn())\n",
    "    i = 0 # reset iter to 0\n",
    "    # aggregate our avg\n",
    "    while i < len(sample):\n",
    "        total += sample[i]\n",
    "    # return average\n",
    "    return total / size\n",
    "\n",
    "law_large_nums(100)"
   ]
  },
  {
   "cell_type": "code",
   "execution_count": null,
   "metadata": {},
   "outputs": [],
   "source": []
  }
 ],
 "metadata": {
  "kernelspec": {
   "display_name": "Python 3",
   "language": "python",
   "name": "python3"
  },
  "language_info": {
   "codemirror_mode": {
    "name": "ipython",
    "version": 3
   },
   "file_extension": ".py",
   "mimetype": "text/x-python",
   "name": "python",
   "nbconvert_exporter": "python",
   "pygments_lexer": "ipython3",
   "version": "3.7.4"
  }
 },
 "nbformat": 4,
 "nbformat_minor": 2
}
